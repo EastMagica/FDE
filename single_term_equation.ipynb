{
 "cells": [
  {
   "cell_type": "markdown",
   "id": "6b0e0cc2-d264-4e8b-b216-907ff956a5c3",
   "metadata": {},
   "source": [
    "# An Algorithm for Single-Term Equations"
   ]
  },
  {
   "cell_type": "markdown",
   "id": "152a050c-3df7-4683-becc-1aa727d6f29b",
   "metadata": {},
   "source": [
    "## Introduction\n",
    "\n",
    "The method can be called *indirect*\n",
    "\n",
    "$$\n",
    "D_{*0}^{n} y(x) = f(x, y(x))\n",
    "$$\n",
    "\n",
    "with appropriate initial conditions\n",
    "\n",
    "$$\n",
    "D^{k} y(0) = y_0^{(k)}, \\quad k=0,1,\\cdots,\\lceil n\\rceil - 1\n",
    "$$\n",
    "\n",
    "applicated **Lemma 6.2**, in order to convert the initial value problem for the differential equation into an equivalent **Volterra integral equation**,\n",
    "\n",
    "$$\n",
    "y(x) = \\sum_{k=0}^{m-1} \\frac{x^k}{k!} D^k y(0) + \\frac{1}{\\Gamma(n)} \\int_0^x (x-t)^{n-1} f(t, y(t)) \\mathrm{d} t\n",
    "$$\n",
    "\n",
    "where $m=\\lceil n\\rceil$.\n",
    "\n",
    "The algorithm that we shall consider can be interpreted as a frational variant of the classical second-order **Adams–Bashforth–Moulton method**."
   ]
  },
  {
   "cell_type": "markdown",
   "id": "391d69f8-b4a5-472e-b9d2-17f263cc3880",
   "metadata": {},
   "source": [
    "### Integral Scheme\n",
    "\n",
    "We focus our attention on the well-known initial-value problem for the first-order differnetial equation\n",
    "\n",
    "$$\\begin{cases}\n",
    "D y(x) &= f(x, y(x)) \\\\\n",
    "y(0) &= y_0\n",
    "\\end{cases}$$\n",
    "\n",
    "We suggest to use the predictor-corrector technique of Adams, for the sake of simplicity, we assume that we are working on a uniform grid $\\{t_j=jh: j=0,1,\\cdots,N\\}$ with some interger $N$ and $h=T/N$.\n",
    "\n",
    "$$\n",
    "y_{k+1} = y_k + \\int_{x_k}^{x_{k+1}} f(t, y(t)) \\mathrm{d} t\n",
    "$$\n",
    "\n",
    "explicit (forward Euler or one-step Adams–Bashforth) method\n",
    "\n",
    "$$\n",
    "y_{k+1}^{P} = y_{k} + h f(t_k, y_k)\n",
    "$$\n",
    "\n",
    "and the process into\n",
    "\n",
    "$$\n",
    "y_{k+1} = y_k + \\frac{h}{2} \\left(f(t_k, y_k) + f(t_{k+1}, y^P_{k+1})\\right)\n",
    "$$"
   ]
  },
  {
   "cell_type": "markdown",
   "id": "fa18afcf-5779-40e6-aab3-74cacf1ae23c",
   "metadata": {},
   "source": [
    "### Fractional Scheme\n",
    "\n",
    "Fractional Formulation\n",
    "\n",
    "$$\n",
    "y(x) = \\sum_{k=0}^{m-1} \\frac{x^k}{k!} D^k y(0) + \\frac{1}{\\Gamma(n)} \\int_0^x (x-t)^{n-1} f(t, y(t)) \\mathrm{d} t\n",
    "$$\n",
    "\n",
    "We apply the approximation\n",
    "\n",
    "$$\n",
    "\\int_0^{t_{k+1}} (t_{k+1} - z)^{n-1} g(z) \\mathrm{d} z \\approx \\int_0^{t_{k+1}} (t_{k+1} - z)^{n-1} \\tilde{g}_{k+1}(z) \\mathrm{d} z\n",
    "$$\n",
    "\n",
    "where $\\tilde{g}$ is the piecewise linear interpolant for $g$ with nodes and knots chosen at the $t_j,\\; j=0,1,2,\\cdots,k+1$.\n",
    "\n",
    "re-write as\n",
    "\n",
    "$$\n",
    "\\int_0^{t_{k+1}} (t_{k+1}-z)^{n-1} \\tilde{g}_{k+1} \\mathrm{d}z = \\sum_{j=0}^{k+1} a_{j,k+1} g(t_j)\n",
    "$$\n",
    "\n",
    "where\n",
    "\n",
    "$$\n",
    "a_{j,k+1} = \\int_0^{t_{k+1}} (t_{k+1}-z)^{n-1} \\phi_{j, k+1}(x) \\mathrm{d}z\n",
    "$$\n",
    "\n",
    "and\n",
    "\n",
    "$$\n",
    "\\phi_{j, k+1}(z)=\\begin{cases}\n",
    "    (z - t_{j-1}) / (t_j - t_{j-1}) & \\text{ if } t_{j-1} < z \\leq t_{j} \\\\\n",
    "    (t_{j+1} - z) / (t_{j+1} - t_j) & \\text{ if } t_{j} < z \\leq t_{j+1} \\\\\n",
    "    0 & \\text{ else }\n",
    "\\end{cases}\n",
    "$$\n",
    "\n",
    "This is clear because the functions $\\phi_{j, k+1}$ shown as\n",
    "\n",
    "![](basis_fun_2.png)\n",
    "\n",
    "![](basis_fun_0.png)"
   ]
  },
  {
   "cell_type": "markdown",
   "id": "8eef7520-4668-4d0c-b050-47e4da9c8605",
   "metadata": {},
   "source": [
    "Finally, we have the iterative scheme shown as\n",
    "\n",
    "$$\\tag{1}\n",
    "y_{k+1} = \\sum_{j=0}^{m-1} \\frac{t_{k+1}^{j}}{j!} y_0^{(j)} + \\frac{1}{\\Gamma(n)} \\left(\\sum_{j=0}^{k} a_{j, k+1} f(t_j, y_j) + a_{k+1, k+1} f(t_{k+1}, y_{k+1}^{P}) \\right)\n",
    "$$\n",
    "\n",
    "predictor element $y_{k+1}^P$ follows\n",
    "\n",
    "$$\\tag{2}\n",
    "y_{k+1}^{P} = \\sum_{j=0}^{m-1} \\frac{t_{k+1}^{j}}{j!} y_0^{(j)} + \\frac{1}{\\Gamma(n)} \\sum_{j=0}^{k} b_{j, k+1} f(t_{j}, y_{j})\n",
    "$$\n",
    "\n",
    "where the parameters\n",
    "\n",
    "$$\\tag{3}\n",
    "\\begin{aligned}\n",
    "    a_{j, k+1} &= \\begin{cases}\n",
    "        \\frac{h^n}{n(n+1)} \\left(k^{n+1}-(k-n)(k+1)^{n}\\right) & \\text{ if } j=0, \\\\\n",
    "        \\frac{h^n}{n(n+1)} \\left((k-j+2)^{n+1}+(k-j)^{n+1}-2(k-j+1)^{n+1}\\right) & \\text{ if } 1\\leq j\\leq k, \\\\\n",
    "        \\frac{h^n}{n(n+1)} & \\text{ if } j=k+1 \\\\\n",
    "    \\end{cases} \\\\\n",
    "    b_{j,k+1} &= \\begin{cases}\n",
    "        \\frac{h^n}{n} \\left((k+1-j)^n-(k-j)^n\\right) & \\text{ if equispaced} \\\\\n",
    "        \\frac{(t_{k+1}-t_{j})^n - (t_{k+1}-t_{j+1})^n}{n} & \\text{ else } \\\\\n",
    "    \\end{cases} \\\\\n",
    "\\end{aligned}\n",
    "$$"
   ]
  },
  {
   "cell_type": "markdown",
   "id": "670aedbd-8830-4458-9bbc-8e1831169d2b",
   "metadata": {},
   "source": [
    "## Packages"
   ]
  },
  {
   "cell_type": "code",
   "execution_count": 1,
   "id": "12ae21e7-17f3-448f-a5ce-55037e8c9ce9",
   "metadata": {},
   "outputs": [
    {
     "name": "stdout",
     "output_type": "stream",
     "text": [
      "Using matplotlib backend: TkAgg\n"
     ]
    }
   ],
   "source": [
    "%matplotlib"
   ]
  },
  {
   "cell_type": "code",
   "execution_count": 2,
   "id": "fc844d58-6f9f-4edb-87bf-12ebdd089e19",
   "metadata": {},
   "outputs": [],
   "source": [
    "import numpy as np\n",
    "import scipy as sp"
   ]
  },
  {
   "cell_type": "code",
   "execution_count": 3,
   "id": "76eda32e-7cdf-4e1a-9904-8a28fa9627a7",
   "metadata": {},
   "outputs": [],
   "source": [
    "from scipy.special import gamma"
   ]
  },
  {
   "cell_type": "code",
   "execution_count": 4,
   "id": "af198a0c-f4dc-4144-aa23-c2fda1fe201a",
   "metadata": {},
   "outputs": [],
   "source": [
    "from fde.single import Adams\n",
    "from fde.plot.config import *\n",
    "from fde.error.order import error_table, iter_error_order"
   ]
  },
  {
   "cell_type": "markdown",
   "id": "3286fd32-deeb-46e5-b18f-365d0406411b",
   "metadata": {},
   "source": [
    "## Examples"
   ]
  },
  {
   "cell_type": "markdown",
   "id": "670771a2-e7b3-4c09-ba8e-aa0a430861aa",
   "metadata": {},
   "source": [
    "### ex.1 two functions coincide at $x_1$ but nowhere else\n",
    "\n",
    "**Theorem 6.A.** ..."
   ]
  },
  {
   "cell_type": "markdown",
   "id": "7c4405ce-f622-4ce8-945b-bd88e2c42417",
   "metadata": {},
   "source": [
    "**Example 6.1** Let $0 < n < 1$ and consider the fractional differential equations\n",
    "\n",
    "$$\n",
    "D_{*0}^{n} y(x) = \\Gamma(n+1)\n",
    "$$\n",
    "\n",
    "with initial conditions $y_1(0)=0,\\; y_2(1)=1$"
   ]
  },
  {
   "cell_type": "markdown",
   "id": "ce97b8bf-4cdc-44b7-8685-b1959d2dfb6e",
   "metadata": {},
   "source": [
    "#### Numerical"
   ]
  },
  {
   "cell_type": "code",
   "execution_count": 5,
   "id": "350a92a5-50f9-4e91-8329-847d544af0bf",
   "metadata": {},
   "outputs": [],
   "source": [
    "n = 1 / 4"
   ]
  },
  {
   "cell_type": "code",
   "execution_count": 6,
   "id": "1031c9a4-1482-4e4e-980f-b19eea1480a5",
   "metadata": {},
   "outputs": [],
   "source": [
    "test_11 = Adams(\n",
    "    func=lambda t, y: gamma(n + 1),\n",
    "    dy0=[np.array([0.])],\n",
    "    dn=n,\n",
    "    time_opt={\n",
    "        \"domain\": np.array([0., 2.]),\n",
    "        \"n\": 200\n",
    "    }\n",
    ")\n",
    "y_data_11 = test_11.iterator()"
   ]
  },
  {
   "cell_type": "code",
   "execution_count": 7,
   "id": "9d88158c-c19a-4b74-afda-143f6a1bda2f",
   "metadata": {},
   "outputs": [],
   "source": [
    "test_12 = Adams(\n",
    "    func=lambda t, y: gamma(n + 1),\n",
    "    dy0=[np.array([1.])],\n",
    "    dn=n,\n",
    "    time_opt={\n",
    "        \"domain\": np.array([1., 2.]),\n",
    "        \"n\": 200\n",
    "    }\n",
    ")\n",
    "y_data_12 = test_12.iterator()"
   ]
  },
  {
   "cell_type": "code",
   "execution_count": 8,
   "id": "da9756fb-5740-4471-adbd-79962f58b657",
   "metadata": {
    "tags": []
   },
   "outputs": [],
   "source": [
    "fig, ax = get_ax(\n",
    "    title=f\"\\\\textbf{{Ex.1 }} Numerical of $D_{{*0}}^{{{n}}}y(x)=\\\\Gamma(n+1)$\"\n",
    ")\n",
    "\n",
    "ax.plot(\n",
    "    test_11.t.seq, y_data_11,\n",
    "    label=f\"$y_1(0)={test_11.dy0[0, 0]}$\"\n",
    ")\n",
    "ax.plot(\n",
    "    test_12.t.seq, y_data_12, \n",
    "    label=f\"$y_2(1)={test_12.dy0[0, 0]}$\"\n",
    ")\n",
    "\n",
    "ax.scatter(\n",
    "    [1.], y_data_12[0],\n",
    "    color=\"black\",\n",
    "    s=20,\n",
    "    zorder=3\n",
    ")\n",
    "\n",
    "set_ax(ax)\n",
    "\n",
    "# plt.savefig(\"ex.1.num.png\")"
   ]
  },
  {
   "cell_type": "markdown",
   "id": "8f83f074-ec28-489f-9e47-13f8cd1c6c9f",
   "metadata": {},
   "source": [
    "![](ex.1.num.png)"
   ]
  },
  {
   "cell_type": "markdown",
   "id": "47440792-da76-437d-855b-9b91107abb1e",
   "metadata": {},
   "source": [
    "#### Analytical"
   ]
  },
  {
   "cell_type": "code",
   "execution_count": 9,
   "id": "f3acca5f-db3c-4b19-ba36-2a78bfcaae2a",
   "metadata": {},
   "outputs": [],
   "source": [
    "t_seq_11 = test_11.t.seq\n",
    "t_seq_12 = test_12.t.seq\n",
    "\n",
    "y_analytic_11 = t_seq_11**n\n",
    "y_analytic_12 = 1 + (t_seq_12 - 1.)**n"
   ]
  },
  {
   "cell_type": "code",
   "execution_count": 10,
   "id": "c73021a0-4b1c-4413-b7e1-01d79696a588",
   "metadata": {
    "tags": []
   },
   "outputs": [],
   "source": [
    "fig, ax = get_ax(\n",
    "    title=f\"\\\\textbf{{Ex.1 }} Analytical of $D_{{*0}}^{{{n}}}y(x)=\\\\Gamma(n+1)$\"\n",
    ")\n",
    "\n",
    "ax.plot(\n",
    "    t_seq_11, y_analytic_11,\n",
    "    linestyle=\"--\",\n",
    "    label=\"$y_1(x)=x^n$\"\n",
    ")\n",
    "ax.plot(\n",
    "    test_12.t.seq, y_analytic_12, \n",
    "    linestyle=\"-.\",\n",
    "    label=\"$y_2(x)=1+(x-1)^n$\",\n",
    "    **line_style\n",
    ")\n",
    "\n",
    "ax.scatter(\n",
    "    [1.], y_analytic_12[0],\n",
    "    color=\"black\",\n",
    "    s=20,\n",
    "    zorder=3\n",
    ")\n",
    "\n",
    "set_ax(ax)\n",
    "\n",
    "# plt.savefig(\"ex.1.ana.png\")"
   ]
  },
  {
   "cell_type": "markdown",
   "id": "64899429-c319-4109-89db-edac091087a1",
   "metadata": {},
   "source": [
    "![](ex.1.ana.png)"
   ]
  },
  {
   "cell_type": "markdown",
   "id": "00e51a80-3584-4f8d-bb15-4aa4c329c7f3",
   "metadata": {},
   "source": [
    "#### Error Analysis"
   ]
  },
  {
   "cell_type": "code",
   "execution_count": 11,
   "id": "c7550c01-106e-41fd-b5ea-337a4ef67fa9",
   "metadata": {},
   "outputs": [],
   "source": [
    "y_error_11 = y_data_11 - y_analytic_11\n",
    "y_error_12 = y_data_12 - y_analytic_12"
   ]
  },
  {
   "cell_type": "code",
   "execution_count": 12,
   "id": "416b88e8-e0e6-4090-82f5-db57d05dd516",
   "metadata": {},
   "outputs": [],
   "source": [
    "fig, ax = get_ax(\n",
    "    title=r\"\\textbf{Ex.1 } Error between Numerial \\& Analytical\"\n",
    ")\n",
    "\n",
    "ax.plot(\n",
    "    test_11.t.seq, y_error_11,\n",
    "    label=\"$y_1(x)$\",\n",
    "    **line_style\n",
    ")\n",
    "ax.plot(\n",
    "    test_12.t.seq, y_error_12, \n",
    "    label=\"$y_2(x)$\",\n",
    "    **line_style\n",
    ")\n",
    "\n",
    "set_ax(ax)\n",
    "\n",
    "# plt.savefig(\"ex.1.err.png\")"
   ]
  },
  {
   "cell_type": "markdown",
   "id": "aa448469-53ea-4eb5-b167-8b4de8b7d590",
   "metadata": {},
   "source": [
    "![](ex.1.err.png)"
   ]
  },
  {
   "cell_type": "markdown",
   "id": "f66d6d54-fc29-4888-9609-7eec1386450f",
   "metadata": {},
   "source": [
    "### ex.2\n",
    "\n",
    "**Theorem 6.12.** ..."
   ]
  },
  {
   "cell_type": "markdown",
   "id": "03ae9870-3e06-4f25-9ec2-c4a867639262",
   "metadata": {},
   "source": [
    "**Example 6.2** We verify the statement of Theorem 6.12 by looking at the differential equation\n",
    "\n",
    "$$\n",
    "D_{*0}^{0.28} y(x)=(0.5-x) \\sin y(x) +0.8x^3\n",
    "$$\n",
    "\n",
    "with initial conditions \n",
    "\n",
    "$$\n",
    "y_0(0)=1.7, y_1(0)=1.6, y_2(0)=1.5, y_3(0)=1.4, y_4(0)=1.3, y_5(0)=1.2\n",
    "$$"
   ]
  },
  {
   "cell_type": "markdown",
   "id": "2f2b89b9-e3c4-442b-901c-0123f576a065",
   "metadata": {},
   "source": [
    "#### Numerical"
   ]
  },
  {
   "cell_type": "code",
   "execution_count": 13,
   "id": "fd2ec6ad-090b-4961-960a-6b8e64559501",
   "metadata": {},
   "outputs": [],
   "source": [
    "test_2 = Adams(\n",
    "    func=lambda t, y: (0.5 - t) * np.sin(y) + 0.8 * t**3,\n",
    "    dy0=[np.array([1.7, 1.6, 1.5, 1.4, 1.3, 1.2])],\n",
    "    dn=0.28,\n",
    "    time_opt={\n",
    "        \"domain\": np.array([0., 1.]),\n",
    "        \"n\": 200\n",
    "    }\n",
    ")\n",
    "y_data_2 = test_2.iterator()"
   ]
  },
  {
   "cell_type": "code",
   "execution_count": 14,
   "id": "d75bd91b-5b76-4966-8b0d-ee5fce70afcb",
   "metadata": {},
   "outputs": [
    {
     "data": {
      "text/plain": [
       "<matplotlib.legend.Legend at 0x1cf0e8c1fd0>"
      ]
     },
     "execution_count": 14,
     "metadata": {},
     "output_type": "execute_result"
    }
   ],
   "source": [
    "fig, ax = get_ax(\n",
    "    title=r\"\\textbf{Ex.2 } Numerial of $D_{*0}^{0.28} y(x)=(0.5-x) \\sin y(x) +0.8x^3$\"\n",
    ")\n",
    "\n",
    "for i in range(y_data_2.shape[1]):\n",
    "    ax.plot(\n",
    "        test_2.t.seq, y_data_2[:, i],\n",
    "        # color=\"black\",\n",
    "        linestyle=line_styles[i],\n",
    "        label=f\"$y_{i+1}(0)={test_2.dy0[0, i]}$\",\n",
    "        **line_style\n",
    "    )\n",
    "    ax.scatter(\n",
    "        test_2.t.seq[0], y_data_2[0, i],\n",
    "        s=25\n",
    "    )\n",
    "\n",
    "ax.set_ylim(1.1, 2.0)\n",
    "\n",
    "ax.legend(\n",
    "    ncol=2,\n",
    "    **legend_style\n",
    ")\n",
    "\n",
    "# plt.savefig(\"ex.2.num.png\")"
   ]
  },
  {
   "cell_type": "markdown",
   "id": "847f5128-580f-48e2-a41a-14cce98e9cac",
   "metadata": {},
   "source": [
    "![](ex.2.num.png)"
   ]
  },
  {
   "cell_type": "markdown",
   "id": "3cb04430-2623-4e3b-b267-dc8fba1870eb",
   "metadata": {},
   "source": [
    "### ex.3\n",
    "\n"
   ]
  },
  {
   "cell_type": "markdown",
   "id": "0b4239ad-038d-404a-b88e-bbe89c8484b4",
   "metadata": {},
   "source": [
    "$$\n",
    "D_{*0}^{1/2} y(x)=\\sin y(x), \\quad y(1)=2.5\n",
    "$$\n",
    "\n",
    "with initial conditions\n",
    "\n",
    "$$\n",
    "y_1(0)=1., y_2(0)=2., y_3(0)=1.5, y_4(0)=1.75, y_5(0)=1.625, y_6(0)=1.6875, y_7(0)=1.71875\n",
    "$$"
   ]
  },
  {
   "cell_type": "markdown",
   "id": "eb185e7b-e06c-430a-a059-2460c66adbef",
   "metadata": {},
   "source": [
    "#### Numerical"
   ]
  },
  {
   "cell_type": "code",
   "execution_count": 15,
   "id": "58930c46-e462-4ee7-85c7-c9baf1cbd32a",
   "metadata": {},
   "outputs": [],
   "source": [
    "test_3 = Adams(\n",
    "    func=lambda t, y: np.sin(y),\n",
    "    dy0=[np.array([1., 2., 1.5, 1.75, 1.625, 1.6875, 1.71875])],\n",
    "    dn=0.5,\n",
    "    time_opt={\n",
    "        \"domain\": np.array([0., 1.]),\n",
    "        \"n\": 200\n",
    "    }\n",
    ")\n",
    "y_data_3 = test_3.iterator()"
   ]
  },
  {
   "cell_type": "code",
   "execution_count": 16,
   "id": "66d78697-c1aa-4a27-9a7e-66ad3d4f1144",
   "metadata": {},
   "outputs": [
    {
     "data": {
      "text/plain": [
       "<matplotlib.legend.Legend at 0x1cf0ddcebb0>"
      ]
     },
     "execution_count": 16,
     "metadata": {},
     "output_type": "execute_result"
    }
   ],
   "source": [
    "fig, ax = get_ax(\n",
    "    title=r\"\\textbf{Ex.3 } Numerial of $D_{*0}^{1/2} y(x)=\\sin y(x)$\"\n",
    ")\n",
    "\n",
    "plot_list = [6, 1, 2, 3, 4]\n",
    "\n",
    "for k, i in enumerate(plot_list):\n",
    "    ax.plot(\n",
    "        test_3.t.seq, y_data_3[:, i],\n",
    "        # color=\"black\",\n",
    "        linestyle=line_styles[k],\n",
    "        label=f\"$y_{i+1}(0)={test_3.dy0[0, i]}$\",\n",
    "        **line_style\n",
    "    )\n",
    "    \n",
    "ax.scatter(\n",
    "    [1.], [2.5],\n",
    "    color=\"black\",\n",
    "    s=20\n",
    ")\n",
    "    \n",
    "ax.set_xlim(-0.02, 1.02)\n",
    "ax.set_ylim(1.6, 2.7)\n",
    "\n",
    "ax.legend(\n",
    "    ncol=2,\n",
    "    **legend_style\n",
    ")\n",
    "\n",
    "# plt.savefig(\"ex.3.num.png\")"
   ]
  },
  {
   "cell_type": "markdown",
   "id": "c36100d6-e1f4-4edd-89c4-32a84cdc3ed3",
   "metadata": {},
   "source": [
    "![](ex.3.num.png)"
   ]
  },
  {
   "cell_type": "markdown",
   "id": "0cb8f4d7-3ac3-4744-a3a7-b10593043698",
   "metadata": {},
   "source": [
    "### ex.4"
   ]
  },
  {
   "cell_type": "markdown",
   "id": "edf8560b-9e51-4d5f-a700-79e24d4f33d0",
   "metadata": {},
   "source": [
    "$$\n",
    "D_{*0}^n y(x) = \\frac{40320}{\\Gamma(9-n)} x^{8-n} - 3\\frac{\\Gamma(5+n/2)}{\\Gamma(5+n/2)} x^{4-n/2} + \\frac{9}{4}\\Gamma(n+1) + \\left(\\frac{3}{2} x^{n/2} - x^4\\right) - [y(x)]^{3/2},\\quad x\\in [0, 1], n > 1\n",
    "$$\n",
    "\n",
    "with initial condition $y(0)=0, y'(0)=0$.\n",
    "\n",
    "The exact solution of this initial value problem is\n",
    "\n",
    "$$\n",
    "y(x) = x^8 - 3 x^{4+n/2} + \\frac{9}{4} x^n\n",
    "$$\n",
    "\n",
    "hence\n",
    "\n",
    "$$\n",
    "D_{*0}^n y(x) = \\frac{40320}{\\Gamma(9-n)} x^{8-n} - 3\\frac{\\Gamma(5+n/2)}{\\Gamma(5+n/2)} x^{4-n/2} + \\frac{9}{4}\\Gamma(n+1)\n",
    "$$"
   ]
  },
  {
   "cell_type": "markdown",
   "id": "5baa504d-9f6a-4cc9-9b05-f988f5c545c2",
   "metadata": {},
   "source": [
    "#### Numerical"
   ]
  },
  {
   "cell_type": "code",
   "execution_count": 17,
   "id": "de96f7b9-b039-462f-87bd-f29740ecc27a",
   "metadata": {},
   "outputs": [],
   "source": [
    "n = 1.25\n",
    "\n",
    "def fun_4(t, y):\n",
    "    expr1 = 40320/gamma(9-n) * t**(8-n)\n",
    "    expr2 = 3 * gamma(5+n/2) / gamma(5-n/2) * t**(4-n/2)\n",
    "    expr3 = 9/4 * gamma(n + 1)\n",
    "    expr4 = (3/2 * t**(n/2) - t**4)**3\n",
    "    expr5 = y**(3/2)\n",
    "    return expr1 - expr2 + expr3 + expr4 - expr5"
   ]
  },
  {
   "cell_type": "code",
   "execution_count": 18,
   "id": "1224e719-59d5-4cd9-b8f4-836033798196",
   "metadata": {},
   "outputs": [],
   "source": [
    "test_4 = Adams(\n",
    "    func=fun_4,\n",
    "    dy0=[np.array([0]), np.array([0])],\n",
    "    dn=n,\n",
    "    time_opt={\n",
    "        \"domain\": np.array([0., 1.]),\n",
    "        \"n\": 200\n",
    "    }\n",
    ")\n",
    "y_data_4 = test_4.iterator()"
   ]
  },
  {
   "cell_type": "code",
   "execution_count": 19,
   "id": "05f97aab-024e-42f4-92fc-aabdc46fa523",
   "metadata": {},
   "outputs": [],
   "source": [
    "fig, ax = get_ax(\n",
    "    title=f\"\\\\textbf{{Ex.4 }} Numerical of $D_{{*0}}^{{{n}}}y(x)=f(x, y(x))$\"\n",
    ")\n",
    "\n",
    "ax.plot(\n",
    "    test_4.t.seq, y_data_4,\n",
    "    # marker=\".\", markersize=12,\n",
    "    # markevery=0.05\n",
    ")\n",
    "\n",
    "set_ax(ax, legend=False)\n",
    "\n",
    "# plt.savefig(\"ex.4.num.png\")"
   ]
  },
  {
   "cell_type": "markdown",
   "id": "48cdcbbe-f044-4c54-840e-9339790319d9",
   "metadata": {},
   "source": [
    "![](ex.4.num.png)"
   ]
  },
  {
   "cell_type": "markdown",
   "id": "c5087073-1f6e-4b39-bed9-09a06aafb489",
   "metadata": {},
   "source": [
    "#### Analytical"
   ]
  },
  {
   "cell_type": "code",
   "execution_count": 20,
   "id": "42f9bb94-bc1c-4a76-bee1-b079e022e087",
   "metadata": {},
   "outputs": [],
   "source": [
    "t_seq_4 = test_4.t.seq\n",
    "# t_seq_4 = np.linspace(0, 1., 201)\n",
    "\n",
    "y_analytic_4 = t_seq_4**8 - 3 * t_seq_4**(4+n/2) + 9/4 * t_seq_4**n"
   ]
  },
  {
   "cell_type": "code",
   "execution_count": 21,
   "id": "312331ba-54e5-4f8f-835a-4a85957bdeee",
   "metadata": {},
   "outputs": [],
   "source": [
    "fig, ax = get_ax(\n",
    "    title=f\"\\\\textbf{{Ex.4 }} Analytical of $D_{{*0}}^{{{n}}}y(x)=f(x, y(x))$\"\n",
    ")\n",
    "\n",
    "ax.plot(\n",
    "    t_seq_4, y_analytic_4,\n",
    "    linestyle=\"--\"\n",
    ")\n",
    "\n",
    "set_ax(ax, legend=False)\n",
    "\n",
    "# plt.savefig(\"ex.4.ana.png\")"
   ]
  },
  {
   "cell_type": "markdown",
   "id": "6b483da3-9ae5-4bea-bc11-291a0eaae623",
   "metadata": {},
   "source": [
    "![](ex.4.ana.png)"
   ]
  },
  {
   "cell_type": "markdown",
   "id": "e82323e8-bb0c-4e57-b547-b7a392614ab2",
   "metadata": {},
   "source": [
    "#### Error Analysis"
   ]
  },
  {
   "cell_type": "code",
   "execution_count": 22,
   "id": "faf3d5c2-44d7-44ad-a0f0-e6bdc1674a98",
   "metadata": {},
   "outputs": [],
   "source": [
    "y_error_4 = y_data_4 - y_analytic_4"
   ]
  },
  {
   "cell_type": "code",
   "execution_count": 23,
   "id": "251098f8-26e4-4a4f-a629-c1e5570d0c7c",
   "metadata": {},
   "outputs": [],
   "source": [
    "fig, ax = get_ax(\n",
    "    title=\"\\\\textbf{{Ex.4 }} Error between Numerial \\& Analytical\"\n",
    ")\n",
    "\n",
    "ax.plot(\n",
    "    t_seq_4, y_error_4,\n",
    "    linestyle=\"-\"\n",
    ")\n",
    "\n",
    "set_ax(ax, legend=False)\n",
    "\n",
    "# plt.savefig(\"ex.4.err.png\")"
   ]
  },
  {
   "cell_type": "markdown",
   "id": "7682c204-4076-4440-bc1c-9c97a1a1b69d",
   "metadata": {},
   "source": [
    "![](ex.4.err.png)"
   ]
  },
  {
   "cell_type": "markdown",
   "id": "8d0e9aa7-dc2c-4c9f-b629-0e0a7c18910b",
   "metadata": {},
   "source": [
    "#### Error Order"
   ]
  },
  {
   "cell_type": "code",
   "execution_count": 24,
   "id": "9b26aadd-0bf5-4ffe-a464-55329e3f2da7",
   "metadata": {},
   "outputs": [],
   "source": [
    "iter_step = 7\n",
    "step_n = 10\n",
    "\n",
    "y_4_end_list = iter_error_order(\n",
    "    module=Adams, \n",
    "    parameters={\n",
    "        \"func\": fun_4,\n",
    "        \"dy0\": [np.array([0]), np.array([0])],\n",
    "        \"dn\": n,\n",
    "        \"time_opt\": {\n",
    "            \"domain\": np.array([0., 1.]),\n",
    "            \"n\": step_n\n",
    "        }\n",
    "    }, \n",
    "    iter_name=\"time_opt\", \n",
    "    iter_step=iter_step, \n",
    "    iter_func=lambda opt: dict(opt, n=opt[\"n\"] * 2),\n",
    "    collect_func=lambda opt, out: [opt[\"n\"], out[-1] - y_analytic_4[-1]]\n",
    ")"
   ]
  },
  {
   "cell_type": "code",
   "execution_count": 25,
   "id": "069dff5c-2dca-4e4b-a672-f5df57890b0d",
   "metadata": {},
   "outputs": [],
   "source": [
    "order_info_table, order_info = error_table(y_4_end_list)"
   ]
  },
  {
   "cell_type": "code",
   "execution_count": 26,
   "id": "b58cf562-0b8a-4921-9a25-815b3ab007b9",
   "metadata": {},
   "outputs": [
    {
     "name": "stdout",
     "output_type": "stream",
     "text": [
      "+-----------+-----------------------+-------------+\n",
      "| step size | Error of Adams scheme | Error Order |\n",
      "+-----------+-----------------------+-------------+\n",
      "|     10    |      5.532564e-03     |             |\n",
      "|     20    |      1.593218e-03     |    1.7960   |\n",
      "|     40    |      4.328280e-04     |    1.8801   |\n",
      "|     80    |      1.143382e-04     |    1.9205   |\n",
      "|    160    |      2.974073e-05     |    1.9428   |\n",
      "|    320    |      7.663078e-06     |    1.9564   |\n",
      "|    640    |      1.961993e-06     |    1.9656   |\n",
      "+-----------+-----------------------+-------------+\n"
     ]
    }
   ],
   "source": [
    "print(order_info_table.get_string())"
   ]
  },
  {
   "cell_type": "code",
   "execution_count": null,
   "id": "00b45169-1027-46d4-bb24-4613f9c6a8db",
   "metadata": {},
   "outputs": [],
   "source": []
  }
 ],
 "metadata": {
  "kernelspec": {
   "display_name": "Python 3",
   "language": "python",
   "name": "python3"
  },
  "language_info": {
   "codemirror_mode": {
    "name": "ipython",
    "version": 3
   },
   "file_extension": ".py",
   "mimetype": "text/x-python",
   "name": "python",
   "nbconvert_exporter": "python",
   "pygments_lexer": "ipython3",
   "version": "3.9.4"
  }
 },
 "nbformat": 4,
 "nbformat_minor": 5
}
