{
 "cells": [
  {
   "cell_type": "code",
   "execution_count": 1,
   "id": "4b87f83e-30d0-4d97-b787-8537b50031b2",
   "metadata": {},
   "outputs": [],
   "source": [
    "import numpy as np\n",
    "import scipy as sp"
   ]
  },
  {
   "cell_type": "code",
   "execution_count": 2,
   "id": "7315ef01-950d-443e-838e-babf6ce16c80",
   "metadata": {},
   "outputs": [],
   "source": [
    "from scipy.special import gamma"
   ]
  },
  {
   "cell_type": "code",
   "execution_count": 3,
   "id": "5cc15ca6-96c2-461f-aeea-344e68174e49",
   "metadata": {},
   "outputs": [],
   "source": [
    "from fde.single import Adams\n",
    "# from fde.plot.config import *\n",
    "from fde.error.order import error_table, iter_error_order"
   ]
  },
  {
   "cell_type": "code",
   "execution_count": 4,
   "id": "a713a8a6-788b-4aab-8e45-19b5c745415c",
   "metadata": {},
   "outputs": [],
   "source": [
    "import matplotlib.pyplot as plt\n",
    "import matplotlib.gridspec as gridspec"
   ]
  },
  {
   "cell_type": "markdown",
   "id": "c6077f65-4db1-43fa-985a-cda15746a118",
   "metadata": {},
   "source": [
    "## Examples"
   ]
  },
  {
   "cell_type": "code",
   "execution_count": 5,
   "id": "5a034dc2-0cbd-4aa0-93c0-45914f1cfe9d",
   "metadata": {},
   "outputs": [],
   "source": [
    "dn = 1 / 2"
   ]
  },
  {
   "cell_type": "code",
   "execution_count": 6,
   "id": "cb33f7bf-d904-4e88-a13a-cf54e9b7bf3b",
   "metadata": {},
   "outputs": [],
   "source": [
    "step_n = 100\n",
    "domain = np.array([0., 1.])"
   ]
  },
  {
   "cell_type": "code",
   "execution_count": 7,
   "id": "8854b237-0b94-492a-aac8-9c5a53d70dbf",
   "metadata": {},
   "outputs": [],
   "source": [
    "temp = Adams(\n",
    "    func=lambda t, y: gamma(dn + 1),\n",
    "    dy0=[np.array([0.])],\n",
    "    dn=dn,\n",
    "    time_opt={\n",
    "        \"domain\": domain,\n",
    "        \"n\": step_n\n",
    "    }\n",
    ")\n",
    "y_data_temp, temp_params = temp.iterator(parameter=True)"
   ]
  },
  {
   "cell_type": "markdown",
   "id": "81b15052-9e91-4a04-a0bd-8b7b065b4f86",
   "metadata": {},
   "source": [
    "## Visualization"
   ]
  },
  {
   "cell_type": "code",
   "execution_count": 38,
   "id": "268bb112-3ade-4c6b-ad59-80e2f4414501",
   "metadata": {},
   "outputs": [],
   "source": [
    "import matplotlib as mpl"
   ]
  },
  {
   "cell_type": "code",
   "execution_count": null,
   "id": "b5b2435e-255a-4adb-bf31-0b82b7fbe217",
   "metadata": {},
   "outputs": [],
   "source": [
    "temp_data_a = np.zeros([])"
   ]
  },
  {
   "cell_type": "code",
   "execution_count": 80,
   "id": "d7c64d71-451f-4b6a-a806-06506f2c0cef",
   "metadata": {},
   "outputs": [
    {
     "data": {
      "text/plain": [
       "0.048686330402774744"
      ]
     },
     "execution_count": 80,
     "metadata": {},
     "output_type": "execute_result"
    }
   ],
   "source": [
    "sum(temp_params[100]['a'][:10]) / sum(temp_params[100]['a'])"
   ]
  },
  {
   "cell_type": "code",
   "execution_count": 74,
   "id": "7e5067ea-cf8b-4535-923c-a1e7f6c8dfd0",
   "metadata": {},
   "outputs": [
    {
     "data": {
      "text/plain": [
       "[<matplotlib.lines.Line2D at 0x2cb3ddd1700>]"
      ]
     },
     "execution_count": 74,
     "metadata": {},
     "output_type": "execute_result"
    },
    {
     "data": {
      "image/png": "[encoded data removed]",
      "text/plain": [
       "<Figure size 576x576 with 3 Axes>"
      ]
     },
     "metadata": {
      "needs_background": "light"
     },
     "output_type": "display_data"
    }
   ],
   "source": [
    "fig = plt.figure(\n",
    "    figsize=(8, 8),\n",
    "    tight_layout=True\n",
    ")\n",
    "\n",
    "plot_n = 100\n",
    "\n",
    "gs = gridspec.GridSpec(4, 1)\n",
    "\n",
    "ax_0 = fig.add_subplot(gs[:2])\n",
    "ax_1 = fig.add_subplot(gs[2], sharex=ax_0)\n",
    "ax_2 = fig.add_subplot(gs[3], sharex=ax_0)\n",
    "\n",
    "ax_0.set_xlim(-temp.t.seq[plot_n]*0.01, temp.t.seq[plot_n] * 1.01)\n",
    "ax_1.set_ylim(-0.01, 0.15)\n",
    "ax_2.set_ylim(-0.01, 0.21)\n",
    "\n",
    "ax_0.plot(\n",
    "    temp.t.seq[:plot_n],\n",
    "    y_data_temp[:plot_n],\n",
    "    marker='.',\n",
    "    markersize=9,\n",
    "    markeredgecolor='black',\n",
    "#     markerfacecolor='black',\n",
    ")\n",
    "\n",
    "ax_1.plot(\n",
    "    temp.t.seq[:plot_n+1],\n",
    "    temp_params[plot_n]['a'],\n",
    "    marker='.'\n",
    ")\n",
    "ax_2.plot(\n",
    "    temp.t.seq[:plot_n],\n",
    "    temp_params[plot_n]['b'],\n",
    "    marker='.'\n",
    ")\n",
    "\n",
    "# for k, v in temp_params.items():\n",
    "#     if k > plot_n:\n",
    "#         break\n",
    "#     ax_1.plot(\n",
    "#         temp.t.seq[:len(v['a'])],\n",
    "#         v['a'],\n",
    "#     )\n",
    "#     ax_2.plot(\n",
    "#         temp.t.seq[:len(v['b'])],\n",
    "#         v['b'],\n",
    "#     )"
   ]
  },
  {
   "cell_type": "code",
   "execution_count": null,
   "id": "862d0468-be9a-4ace-9330-864a6ae72a45",
   "metadata": {},
   "outputs": [],
   "source": []
  },
  {
   "cell_type": "code",
   "execution_count": null,
   "id": "90a907be-5264-4def-9a85-1d8df5bb0cf1",
   "metadata": {},
   "outputs": [],
   "source": []
  },
  {
   "cell_type": "code",
   "execution_count": null,
   "id": "0faba229-28e8-4b3d-beb4-b3622708f72e",
   "metadata": {},
   "outputs": [],
   "source": []
  }
 ],
 "metadata": {
  "kernelspec": {
   "display_name": "Python 3",
   "language": "python",
   "name": "python3"
  },
  "language_info": {
   "codemirror_mode": {
    "name": "ipython",
    "version": 3
   },
   "file_extension": ".py",
   "mimetype": "text/x-python",
   "name": "python",
   "nbconvert_exporter": "python",
   "pygments_lexer": "ipython3",
   "version": "3.9.4"
  }
 },
 "nbformat": 4,
 "nbformat_minor": 5
}
