{
 "cells": [
  {
   "cell_type": "code",
   "execution_count": 1,
   "id": "62f2ad9f-049a-4cff-a0a0-d01f3b12e2ca",
   "metadata": {},
   "outputs": [],
   "source": [
    "import sympy as mp"
   ]
  },
  {
   "cell_type": "code",
   "execution_count": 2,
   "id": "85d1079e-6a49-4559-80d3-e9ae67c3af41",
   "metadata": {},
   "outputs": [],
   "source": [
    "a, b, c, z, n = mp.symbols('a, b, c, z, n')"
   ]
  },
  {
   "cell_type": "code",
   "execution_count": 6,
   "id": "b7746aa3-2feb-4235-9922-6759a4891d28",
   "metadata": {},
   "outputs": [
    {
     "data": {
      "text/latex": [
       "$\\displaystyle \\begin{cases} \\frac{\\left(-1\\right)^{n} a a^{n}}{n + 1} - \\frac{\\left(-1\\right)^{n} b b^{n}}{n + 1} & \\text{for}\\: \\left(c = 0 \\wedge n = -1\\right) \\vee \\left(c = 0 \\wedge n = 0\\right) \\vee \\left(c = 0 \\wedge n = -1 \\wedge n = 0\\right) \\vee c = 0 \\\\- \\frac{a \\log{\\left(a - c \\right)}}{a - c} + \\frac{b \\log{\\left(b - c \\right)}}{b - c} - \\frac{c \\log{\\left(b - c \\right)}}{b - c} - \\frac{c}{b - c} + \\frac{c \\log{\\left(a - c \\right)}}{a - c} + \\frac{c}{a - c} & \\text{for}\\: n = -1 \\\\a - b + c \\log{\\left(a - c \\right)} - c \\log{\\left(b - c \\right)} & \\text{for}\\: n = 0 \\\\- \\frac{a^{2} n^{2} \\left(- a + c\\right)^{n}}{- 2 a n^{2} - 2 a n + 2 c n^{2} + 2 c n} - \\frac{a^{2} n \\left(- a + c\\right)^{n}}{- 2 a n^{2} - 2 a n + 2 c n^{2} + 2 c n} - \\frac{a n^{2} \\left(- a + c\\right)^{n}}{2 n^{2} + 2 n} + \\frac{a n \\left(- a + c\\right)^{n}}{2 n^{2} + 2 n} + \\frac{b^{2} n^{2} \\left(- b + c\\right)^{n}}{- 2 b n^{2} - 2 b n + 2 c n^{2} + 2 c n} + \\frac{b^{2} n \\left(- b + c\\right)^{n}}{- 2 b n^{2} - 2 b n + 2 c n^{2} + 2 c n} + \\frac{b n^{2} \\left(- b + c\\right)^{n}}{2 n^{2} + 2 n} - \\frac{b n \\left(- b + c\\right)^{n}}{2 n^{2} + 2 n} + \\frac{c^{2} n^{2} \\left(- a + c\\right)^{n}}{- 2 a n^{2} - 2 a n + 2 c n^{2} + 2 c n} - \\frac{c^{2} n^{2} \\left(- b + c\\right)^{n}}{- 2 b n^{2} - 2 b n + 2 c n^{2} + 2 c n} + \\frac{c^{2} n \\left(- a + c\\right)^{n}}{- 2 a n^{2} - 2 a n + 2 c n^{2} + 2 c n} - \\frac{c^{2} n \\left(- b + c\\right)^{n}}{- 2 b n^{2} - 2 b n + 2 c n^{2} + 2 c n} - \\frac{c n^{2} \\left(- a + c\\right)^{n}}{2 n^{2} + 2 n} + \\frac{c n^{2} \\left(- b + c\\right)^{n}}{2 n^{2} + 2 n} - \\frac{c n \\left(- a + c\\right)^{n}}{2 n^{2} + 2 n} + \\frac{c n \\left(- b + c\\right)^{n}}{2 n^{2} + 2 n} + \\frac{2 c \\left(- a + c\\right)^{n}}{2 n^{2} + 2 n} - \\frac{2 c \\left(- b + c\\right)^{n}}{2 n^{2} + 2 n} & \\text{otherwise} \\end{cases}$"
      ],
      "text/plain": [
       "Piecewise(((-1)**n*a*a**n/(n + 1) - (-1)**n*b*b**n/(n + 1), Eq(c, 0) | (Eq(c, 0) & Eq(n, -1)) | (Eq(c, 0) & Eq(n, 0)) | (Eq(c, 0) & Eq(n, -1) & Eq(n, 0))), (-a*log(a - c)/(a - c) + b*log(b - c)/(b - c) - c*log(b - c)/(b - c) - c/(b - c) + c*log(a - c)/(a - c) + c/(a - c), Eq(n, -1)), (a - b + c*log(a - c) - c*log(b - c), Eq(n, 0)), (-a**2*n**2*(-a + c)**n/(-2*a*n**2 - 2*a*n + 2*c*n**2 + 2*c*n) - a**2*n*(-a + c)**n/(-2*a*n**2 - 2*a*n + 2*c*n**2 + 2*c*n) - a*n**2*(-a + c)**n/(2*n**2 + 2*n) + a*n*(-a + c)**n/(2*n**2 + 2*n) + b**2*n**2*(-b + c)**n/(-2*b*n**2 - 2*b*n + 2*c*n**2 + 2*c*n) + b**2*n*(-b + c)**n/(-2*b*n**2 - 2*b*n + 2*c*n**2 + 2*c*n) + b*n**2*(-b + c)**n/(2*n**2 + 2*n) - b*n*(-b + c)**n/(2*n**2 + 2*n) + c**2*n**2*(-a + c)**n/(-2*a*n**2 - 2*a*n + 2*c*n**2 + 2*c*n) - c**2*n**2*(-b + c)**n/(-2*b*n**2 - 2*b*n + 2*c*n**2 + 2*c*n) + c**2*n*(-a + c)**n/(-2*a*n**2 - 2*a*n + 2*c*n**2 + 2*c*n) - c**2*n*(-b + c)**n/(-2*b*n**2 - 2*b*n + 2*c*n**2 + 2*c*n) - c*n**2*(-a + c)**n/(2*n**2 + 2*n) + c*n**2*(-b + c)**n/(2*n**2 + 2*n) - c*n*(-a + c)**n/(2*n**2 + 2*n) + c*n*(-b + c)**n/(2*n**2 + 2*n) + 2*c*(-a + c)**n/(2*n**2 + 2*n) - 2*c*(-b + c)**n/(2*n**2 + 2*n), True))"
      ]
     },
     "execution_count": 6,
     "metadata": {},
     "output_type": "execute_result"
    }
   ],
   "source": [
    "mp.integrate(\n",
    "    (c - z)**(n - 1) * z,\n",
    "    (z, a, b)\n",
    ")"
   ]
  },
  {
   "cell_type": "code",
   "execution_count": null,
   "id": "77a0ea3c-2458-4309-8c99-da9e651eea28",
   "metadata": {},
   "outputs": [],
   "source": []
  },
  {
   "cell_type": "code",
   "execution_count": null,
   "id": "d42dc38e-0f01-4605-91d5-882f1d7ce048",
   "metadata": {},
   "outputs": [],
   "source": []
  },
  {
   "cell_type": "code",
   "execution_count": null,
   "id": "73dd88c4-3f2b-4330-981b-3cb899e3a746",
   "metadata": {},
   "outputs": [],
   "source": []
  },
  {
   "cell_type": "code",
   "execution_count": null,
   "id": "b9fefdd7-abdc-4989-8cd5-1945c95f0321",
   "metadata": {},
   "outputs": [],
   "source": []
  }
 ],
 "metadata": {
  "kernelspec": {
   "display_name": "Python 3",
   "language": "python",
   "name": "python3"
  },
  "language_info": {
   "codemirror_mode": {
    "name": "ipython",
    "version": 3
   },
   "file_extension": ".py",
   "mimetype": "text/x-python",
   "name": "python",
   "nbconvert_exporter": "python",
   "pygments_lexer": "ipython3",
   "version": "3.9.4"
  }
 },
 "nbformat": 4,
 "nbformat_minor": 5
}
